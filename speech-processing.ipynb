{
 "cells": [
  {
   "cell_type": "code",
   "execution_count": 13,
   "metadata": {
    "scrolled": true
   },
   "outputs": [
    {
     "data": {
      "text/plain": [
       "'3.8.1'"
      ]
     },
     "execution_count": 13,
     "metadata": {},
     "output_type": "execute_result"
    }
   ],
   "source": [
    "import speech_recognition as sr\n",
    "import pyaudio\n",
    "import wave\n",
    "from pydub.playback import play\n",
    "from pydub import AudioSegment\n",
    "import numpy as np\n",
    "import struct\n",
    "import time\n",
    "sr.__version__"
   ]
  },
  {
   "cell_type": "markdown",
   "metadata": {},
   "source": [
    "# 녹음 및 텍스트 변환"
   ]
  },
  {
   "cell_type": "code",
   "execution_count": 14,
   "metadata": {},
   "outputs": [],
   "source": [
    "po = pyaudio.PyAudio()"
   ]
  },
  {
   "cell_type": "code",
   "execution_count": 15,
   "metadata": {},
   "outputs": [],
   "source": [
    "for index in range(po.get_device_count()): \n",
    "    desc = po.get_device_info_by_index(index)\n",
    "    print(\"INDEX:  %s  RATE:  %s   DEVICE: %s\" %(index, int(desc[\"defaultSampleRate\"]), desc[\"name\"]))"
   ]
  },
  {
   "cell_type": "code",
   "execution_count": 12,
   "metadata": {},
   "outputs": [],
   "source": [
    "FORMAT = pyaudio.paInt16\n",
    "LEN = 10**100\n",
    "PASS = 5\n",
    "CHANNELS = 1\n",
    "RATE = 44100\n",
    "CHUNK = 1024\n",
    "RECORD_SECONDS = 3\n",
    "MIN_STRING_LIST_LENGTH = 9\n",
    "WAVE_OUTPUT_FILENAME = \"./data/wav/file.wav\""
   ]
  },
  {
   "cell_type": "code",
   "execution_count": 17,
   "metadata": {},
   "outputs": [
    {
     "name": "stderr",
     "output_type": "stream",
     "text": [
      "C:\\Users\\User\\anaconda3\\lib\\site-packages\\ipykernel_launcher.py:17: DeprecationWarning: The binary mode of fromstring is deprecated, as it behaves surprisingly on unicode inputs. Use frombuffer instead\n"
     ]
    },
    {
     "name": "stdout",
     "output_type": "stream",
     "text": [
      "안녕하세요\n",
      "종료\n"
     ]
    }
   ],
   "source": [
    "while(True):\n",
    "    audio = pyaudio.PyAudio()\n",
    "\n",
    "    # start Recording\n",
    "    stream = audio.open(format=pyaudio.paInt16, \n",
    "                    channels=CHANNELS, \n",
    "                    rate=RATE, \n",
    "                    input=True, \n",
    "                    input_device_index=1,\n",
    "                    frames_per_buffer=CHUNK)\n",
    "\n",
    "    frames, string_list = [], []\n",
    "    \n",
    "    for i in range(LEN):\n",
    "        data = stream.read(CHUNK)\n",
    "        frames.append(data)\n",
    "        string = np.fromstring(data, np.int16)[0]\n",
    "        string_list.append(string)\n",
    "        \n",
    "         # stop Recording\n",
    "        if string == 0 and i > PASS:\n",
    "            break\n",
    "\n",
    "    stream.stop_stream()\n",
    "    stream.close()\n",
    "    audio.terminate()\n",
    "\n",
    "    waveFile = wave.open(WAVE_OUTPUT_FILENAME, 'wb')\n",
    "    waveFile.setnchannels(CHANNELS)\n",
    "    waveFile.setsampwidth(audio.get_sample_size(FORMAT))\n",
    "    waveFile.setframerate(RATE)\n",
    "    waveFile.writeframes(b''.join(frames))\n",
    "    waveFile.close()\n",
    "\n",
    "    if len(string_list) > MIN_STRING_LIST_LENGTH:\n",
    "        r = sr.Recognizer()\n",
    "        korean_audio = sr.AudioFile(\"./data/wav/file.wav\")\n",
    "\n",
    "        with korean_audio as source:\n",
    "            mandarin = r.record(source)\n",
    "        \n",
    "        try :\n",
    "            sentence = r.recognize_google(audio_data=mandarin, language=\"ko-KR\")\n",
    "            print(sentence)\n",
    "            if sentence in '종료':\n",
    "                break\n",
    "        except:\n",
    "            print('*** 다시 말해주세요 ***')\n",
    "        "
   ]
  },
  {
   "cell_type": "markdown",
   "metadata": {},
   "source": [
    "# 녹음 파일 듣기"
   ]
  },
  {
   "cell_type": "code",
   "execution_count": 187,
   "metadata": {},
   "outputs": [],
   "source": [
    "audio_file = AudioSegment.from_file(file=\"./data/wav/file.wav\")\n",
    "\n",
    "play(audio_file)"
   ]
  },
  {
   "cell_type": "markdown",
   "metadata": {},
   "source": [
    "# 텍스트 읽어오기"
   ]
  },
  {
   "cell_type": "code",
   "execution_count": 19,
   "metadata": {},
   "outputs": [],
   "source": [
    "r = sr.Recognizer()"
   ]
  },
  {
   "cell_type": "code",
   "execution_count": 20,
   "metadata": {},
   "outputs": [
    {
     "data": {
      "text/plain": [
       "'안녕하세요'"
      ]
     },
     "execution_count": 20,
     "metadata": {},
     "output_type": "execute_result"
    }
   ],
   "source": [
    "korean_audio = sr.AudioFile(\"./data/wav/file.wav\")\n",
    "\n",
    "with korean_audio as source:\n",
    "    mandarin = r.record(source)\n",
    "\n",
    "r.recognize_google(audio_data=mandarin, language=\"ko-KR\")"
   ]
  },
  {
   "cell_type": "code",
   "execution_count": 18,
   "metadata": {},
   "outputs": [
    {
     "name": "stderr",
     "output_type": "stream",
     "text": [
      "C:\\Users\\User\\anaconda3\\lib\\site-packages\\ipykernel_launcher.py:9: DeprecationWarning: Numeric-style type codes are deprecated and will result in an error in the future.\n",
      "  if __name__ == '__main__':\n",
      "C:\\Users\\User\\anaconda3\\lib\\site-packages\\ipykernel_launcher.py:9: DeprecationWarning: The binary mode of fromstring is deprecated, as it behaves surprisingly on unicode inputs. Use frombuffer instead\n",
      "  if __name__ == '__main__':\n"
     ]
    },
    {
     "data": {
      "image/png": "[encoded data removed]",
      "text/plain": [
       "<Figure size 432x288 with 1 Axes>"
      ]
     },
     "metadata": {
      "needs_background": "light"
     },
     "output_type": "display_data"
    }
   ],
   "source": [
    "import matplotlib.pyplot as plt\n",
    "import wave\n",
    "import sys\n",
    "\n",
    "spf = wave.open(\"./data/wav/file.wav\", \"r\")\n",
    "\n",
    "# Extract Raw Audio from Wav File\n",
    "signal = spf.readframes(-1)\n",
    "signal = np.fromstring(signal, \"Int16\")\n",
    "\n",
    "# If Stereo\n",
    "if spf.getnchannels() == 2:\n",
    "    sys.exit(0)\n",
    "\n",
    "plt.figure(1)\n",
    "plt.title(\"Signal Wave\")\n",
    "plt.plot(signal)\n",
    "plt.show()"
   ]
  }
 ],
 "metadata": {
  "kernelspec": {
   "display_name": "Python 3",
   "language": "python",
   "name": "python3"
  },
  "language_info": {
   "codemirror_mode": {
    "name": "ipython",
    "version": 3
   },
   "file_extension": ".py",
   "mimetype": "text/x-python",
   "name": "python",
   "nbconvert_exporter": "python",
   "pygments_lexer": "ipython3",
   "version": "3.7.6"
  }
 },
 "nbformat": 4,
 "nbformat_minor": 2
}
